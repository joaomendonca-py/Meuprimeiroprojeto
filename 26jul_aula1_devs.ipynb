{
  "nbformat": 4,
  "nbformat_minor": 0,
  "metadata": {
    "colab": {
      "name": "26jul-aula1-devs.ipynb",
      "private_outputs": true,
      "provenance": [],
      "collapsed_sections": [
        "QiaaUfHtFUVm"
      ],
      "include_colab_link": true
    },
    "kernelspec": {
      "name": "python3",
      "display_name": "Python 3"
    },
    "language_info": {
      "name": "python"
    }
  },
  "cells": [
    {
      "cell_type": "markdown",
      "metadata": {
        "id": "view-in-github",
        "colab_type": "text"
      },
      "source": [
        "<a href=\"https://colab.research.google.com/github/joaomendonca-py/Meuprimeiroprojeto/blob/master/26jul_aula1_devs.ipynb\" target=\"_parent\"><img src=\"https://colab.research.google.com/assets/colab-badge.svg\" alt=\"Open In Colab\"/></a>"
      ]
    },
    {
      "cell_type": "markdown",
      "metadata": {
        "id": "WFpBn8wgACw6"
      },
      "source": [
        "# Data Science Workflow\n",
        "\n",
        "![](https://www.datascience-pm.com/wp-content/uploads/2020/10/harvard.png)"
      ]
    },
    {
      "cell_type": "markdown",
      "metadata": {
        "id": "fNKRhuMPRnVw"
      },
      "source": [
        "#Análise de Dados: overview"
      ]
    },
    {
      "cell_type": "markdown",
      "metadata": {
        "id": "UnfrWJ5ofcc9"
      },
      "source": [
        "![](https://i.insider.com/5d96339951823d242064b4ab?width=1136&format=jpeg)"
      ]
    },
    {
      "cell_type": "markdown",
      "metadata": {
        "id": "jqbtrmGIggzC"
      },
      "source": [
        "## Matemática básica com Python\n",
        "\n",
        "---\n",
        "A vida fora da cidade é diferente. Os custos das coisas do dia a dia também são diferentes. Elon fez uma viagem ao mercadinho na cidade próxima para estocar o essencial para as próximas semanas. Mas os preços aqui com certeza são diferentes dos da cidade! Elon precisa começar a prestar mais atenção às finanças se quiserem se sair bem aqui. Você pode ajudá-lo a descobrir quanto vai custar sua compra de mantimentos?\n",
        "\n",
        "\n",
        "---\n",
        "\n",
        "\n"
      ]
    },
    {
      "cell_type": "markdown",
      "metadata": {
        "id": "ij9lLEHqhyF5"
      },
      "source": [
        "### Desafio \n",
        "Elon tem algumas listas que você pode usar como referência: a lista de compras, os preços que pagavam na cidade e os preços do dono do mercadinho. \n",
        "<br><br>\n",
        "Qual é a diferença de preço entre alimentos na cidade e alimentos no país, como uma porcentagem dos preços do país inteiro? "
      ]
    },
    {
      "cell_type": "code",
      "metadata": {
        "id": "-cFJJVA_h7Lq"
      },
      "source": [
        "# Lista de compras (19 items)\n",
        "grocery_list = ['Pão', 'Geléia', 'Leite', 'Azeite', 'Bananas', 'Café',\n",
        "                'Chocolate', 'Brocolis', 'Ovos', 'Doritos', 'Lentilha', 'Tomates',\n",
        "                'Arroz', 'Chantilly', 'Iogurte', 'Morango', 'cebola', 'Vinho', 'Preservativos']\n",
        "\n",
        "# Preços da cidade\n",
        "city_price = [6.49, 4.99, 4.39, 4.29, 11.99, 17.99,          \n",
        "              3.49, 3.99, 1.10, 1.99, 2.99, 4.68,            \n",
        "              1.59, 8.99, 3.49, 6.99, 2.99, 1.98, 14.99]\n",
        "\n",
        "# Preços do país\n",
        "country_price = [4.49, 4.12, 3.42, 6.99, 7.99, 14.99,              \n",
        "                2.99, 2.49, 0.99, 1.49, 2.49, 1.99,              \n",
        "                1.59, 6.99, 3.89, 4.99, 1.69, 1.87, 11.49]"
      ],
      "execution_count": null,
      "outputs": []
    },
    {
      "cell_type": "markdown",
      "metadata": {
        "id": "0ONa7z-Oif-y"
      },
      "source": [
        "### Solução"
      ]
    },
    {
      "cell_type": "code",
      "metadata": {
        "id": "1kf3DpH_ii2Z"
      },
      "source": [
        "# Usamos o sum() para somar todos os preços cidade\n",
        "t_c = sum(city_price)\n",
        "t_c"
      ],
      "execution_count": null,
      "outputs": []
    },
    {
      "cell_type": "code",
      "metadata": {
        "id": "gfBqI7t12Pv6"
      },
      "source": [
        "# Usamos o sum() para somar todos os preços país\n",
        "t_ct = sum(country_price) \n",
        "t_ct"
      ],
      "execution_count": null,
      "outputs": []
    },
    {
      "cell_type": "code",
      "metadata": {
        "id": "uT2Awh1i2REf"
      },
      "source": [
        "# variável para calcular a porcentagem\n",
        "diff = (t_c - t_ct)/ t_ct"
      ],
      "execution_count": null,
      "outputs": []
    },
    {
      "cell_type": "code",
      "metadata": {
        "id": "AkSwYsd12Sxg"
      },
      "source": [
        "# Printamos o resultado arredondando os valores em 2 posições pós-virgula\n",
        "print(round(diff,2)) "
      ],
      "execution_count": null,
      "outputs": []
    },
    {
      "cell_type": "markdown",
      "metadata": {
        "id": "jF7mMoRVj8Pv"
      },
      "source": [
        "![](https://i.insider.com/5d10a8a597ad7650f7026ef2?width=1136&format=jpeg)"
      ]
    },
    {
      "cell_type": "markdown",
      "metadata": {
        "id": "9c34UEw4g4j7"
      },
      "source": [
        "## 1. Demonstração dos principais métodos do Pandas\n",
        "\n",
        "Pandas é uma biblioteca Python que fornece meios abrangentes para análise de dados. Os cientistas de dados costumam trabalhar com dados armazenados em formatos de tabela como .csv e .xlsx. O Pandas torna muito conveniente carregar, processar e analisar esses dados tabulares usando consultas semelhantes a SQL. Em conjunto com Matplotlib e Seaborn, o Pandas oferece uma ampla gama de oportunidades para análise visual de dados tabulares.\n",
        "\n",
        "As principais estruturas de dados no Pandas são implementadas com as classes Series(1d) e DataFrame(2d). \n",
        "\n",
        "![](https://www.kdnuggets.com/wp-content/uploads/pandas-02.png)\n",
        "\n",
        "DataFrames são ótimos para representar dados reais: as linhas correspondem às instâncias (exemplos, observações, etc.) e as colunas correspondem aos recursos dessas instâncias."
      ]
    },
    {
      "cell_type": "code",
      "metadata": {
        "id": "sq5M5IuliFJV"
      },
      "source": [
        "import numpy as np\n",
        "import pandas as pd\n",
        "\n",
        "pd.set_option(\"display.precision\", 2)"
      ],
      "execution_count": null,
      "outputs": []
    },
    {
      "cell_type": "markdown",
      "metadata": {
        "id": "Wrf-RtqUiNJs"
      },
      "source": [
        "Vamos demonstrar os principais métodos em ação, analisando um conjunto de dados sobre a taxa de rotatividade dos clientes das operadoras de telecomunicações. Vamos ler os dados (usando read_csv) e dar uma olhada nas primeiras 5 linhas usando o método head:\n"
      ]
    },
    {
      "cell_type": "code",
      "metadata": {
        "id": "9PE40m65iMpU"
      },
      "source": [
        "df = pd.read_csv(\"https://raw.githubusercontent.com/Yorko/mlcourse.ai/master/data/telecom_churn.csv\")\n",
        "df.head()"
      ],
      "execution_count": null,
      "outputs": []
    },
    {
      "cell_type": "markdown",
      "metadata": {
        "id": "pM3PHqy_jAaM"
      },
      "source": [
        "Lembre-se de que cada linha corresponde a um cliente, uma instância, e as colunas são recursos desta instância. \n",
        "\n",
        "Vamos dar uma olhada na dimensionalidade dos dados, nomes e tipos de recursos.\n"
      ]
    },
    {
      "cell_type": "code",
      "metadata": {
        "id": "evmssudGi_Fg"
      },
      "source": [
        "print(df.shape)"
      ],
      "execution_count": null,
      "outputs": []
    },
    {
      "cell_type": "markdown",
      "metadata": {
        "id": "naGRNW7ajd0x"
      },
      "source": [
        "Podemos ver que a tabela contém 3.333 linhas e 20 colunas. Agora, vamos tentar imprimir os nomes das colunas usando columns:"
      ]
    },
    {
      "cell_type": "code",
      "metadata": {
        "id": "PcEwlF32jlD1"
      },
      "source": [
        "print(df.columns)"
      ],
      "execution_count": null,
      "outputs": []
    },
    {
      "cell_type": "markdown",
      "metadata": {
        "id": "SH9KaG-fj9tE"
      },
      "source": [
        "Podemos usar o método info() para gerar algumas informações gerais sobre o dataframe:"
      ]
    },
    {
      "cell_type": "code",
      "metadata": {
        "id": "cG976itwj84A"
      },
      "source": [
        "df.info()"
      ],
      "execution_count": null,
      "outputs": []
    },
    {
      "cell_type": "markdown",
      "metadata": {
        "id": "B0ymfxcckKJN"
      },
      "source": [
        "bool, int64, float64 e object são tipos de dados das nossas features/recursos. É perceptível que 1 feature é booleana(bool), 3 features são do tipo object(strings), e 16 features são numéricas. Com esse mesmo método, podemos ver facilmente se há algum valor ausente. Aqui, não há nenhum porque cada coluna contém 3333 observações, o mesmo número de linhas que vimos antes com .shape(). Podemos mudar o tipo de coluna com o método astype. Vamos aplicar este método ao recurso Churn para convertê-lo em int64:\n"
      ]
    },
    {
      "cell_type": "code",
      "metadata": {
        "id": "YElryyPMkKWf"
      },
      "source": [
        "df[\"Churn\"] = df[\"Churn\"].astype(\"int64\")"
      ],
      "execution_count": null,
      "outputs": []
    },
    {
      "cell_type": "markdown",
      "metadata": {
        "id": "3lFMa80alBXv"
      },
      "source": [
        "O método describe() mostra as características estatísticas básicas de cada feature numérica (tipos int64 e float64): número de valores non-null, média, desvio padrão, intervalo, mediana e quartis."
      ]
    },
    {
      "cell_type": "code",
      "metadata": {
        "id": "optaAmAIlh7Y"
      },
      "source": [
        "df.describe()"
      ],
      "execution_count": null,
      "outputs": []
    },
    {
      "cell_type": "markdown",
      "metadata": {
        "id": "HhsQhSdSluIT"
      },
      "source": [
        "Para ver estatísticas sobre recursos não numéricos, é necessário indicar explicitamente os tipos de dados de interesse no parâmetro include()"
      ]
    },
    {
      "cell_type": "code",
      "metadata": {
        "id": "7gwVSmUvl2BG"
      },
      "source": [
        "df.describe(include=[\"object\", \"bool\"])"
      ],
      "execution_count": null,
      "outputs": []
    },
    {
      "cell_type": "markdown",
      "metadata": {
        "id": "QXfskDUqmHqc"
      },
      "source": [
        "Para recursos categóricos (object) e booleanos (tipo bool), podemos usar o método value_counts. Vamos dar uma olhada na distribuição do Churn:"
      ]
    },
    {
      "cell_type": "code",
      "metadata": {
        "id": "FI8JUHMUmL8k"
      },
      "source": [
        "df[\"Churn\"].value_counts()"
      ],
      "execution_count": null,
      "outputs": []
    },
    {
      "cell_type": "markdown",
      "metadata": {
        "id": "u2nmbSIPmqOg"
      },
      "source": [
        "2850 de 3333 são leais; seu Churn é 0. Podemos receber frações disto com o parâmetro normalize=True"
      ]
    },
    {
      "cell_type": "code",
      "metadata": {
        "id": "KkWw4msOm5kn"
      },
      "source": [
        "df[\"Churn\"].value_counts(normalize=True)"
      ],
      "execution_count": null,
      "outputs": []
    },
    {
      "cell_type": "markdown",
      "metadata": {
        "id": "QiaaUfHtFUVm"
      },
      "source": [
        "# COVID-19 DATA ANALYSIS\n",
        "![](https://pbs.twimg.com/media/EWjM_DBWAAESbWc.jpg)\n",
        "\n",
        "Etapas envolvidas na análise de dados:\n",
        "1. Importando pacotes necessários\n",
        "2. Coleta de dados\n",
        "3. Transformando dados de acordo com nossas necessidades (Data Wrangling)\n",
        "4. Análise Exploratória de Dados(EDA) e Visualização"
      ]
    },
    {
      "cell_type": "markdown",
      "metadata": {
        "id": "5Ok1JAOtHxw7"
      },
      "source": [
        "## Importando pacotes"
      ]
    },
    {
      "cell_type": "code",
      "metadata": {
        "id": "-AIS5SDtFYVC"
      },
      "source": [
        "# Importando pacotes\n",
        "import pandas as pd\n",
        "import matplotlib.pyplot as plt\n",
        "import plotly.express as px\n",
        "import numpy as np\n",
        "import plotly.graph_objects as go\n",
        "from plotly.subplots import make_subplots"
      ],
      "execution_count": null,
      "outputs": []
    },
    {
      "cell_type": "markdown",
      "metadata": {
        "id": "Kerj-C6qHsJq"
      },
      "source": [
        "## 2 Coleta de Dados\n",
        "\n",
        "---\n",
        "\n",
        "\n"
      ]
    },
    {
      "cell_type": "code",
      "metadata": {
        "id": "k5BbiwGUHRBc"
      },
      "source": [
        "# Coleta de dados ESRI\n",
        "import requests\n",
        "\n",
        "url_request = requests.get(\"https://services1.arcgis.com/0MSEUqKaxRlEPj5g/arcgis/rest/services/Coronavirus_2019_nCoV_Cases/FeatureServer/1/query?where=1%3D1&outFields=*&outSR=4326&f=json\")\n",
        "url_json = url_request.json()\n",
        "df = pd.DataFrame(url_json['features'])"
      ],
      "execution_count": null,
      "outputs": []
    },
    {
      "cell_type": "markdown",
      "metadata": {
        "id": "KLj3eLZbH1Ps"
      },
      "source": [
        "## Data Wrangling\n",
        "\n",
        "---\n",
        "Data Wrangling é um processo em que transformaremos e limparemos nossos dados de acordo com nossas necessidades. Não podemos analisar com nossos dados extraídos brutos. Portanto, temos que transformar os dados para prosseguir com nossa análise. Este é o código para nossa organização de dados:\n",
        "\n"
      ]
    },
    {
      "cell_type": "code",
      "metadata": {
        "id": "T-Q7aL0bHeG5"
      },
      "source": [
        "import datetime as dt\n",
        "\n",
        "# a. transforming data\n",
        "\n",
        "data_list = df['attributes'].tolist()\n",
        "data = pd.DataFrame(data_list)\n",
        "data.set_index('OBJECTID')\n",
        "data = data[['Province_State','Country_Region','Last_Update','Lat','Long_','Confirmed','Recovered','Deaths','Active']]\n",
        "data.columns = ('State','Country','Last Update','Lat','Long','Confirmed','Recovered','Deaths','Active')\n",
        "data['State'].fillna(value = '', inplace = True)\n",
        "data"
      ],
      "execution_count": null,
      "outputs": []
    },
    {
      "cell_type": "code",
      "metadata": {
        "id": "gpRkBFsXHgPE"
      },
      "source": [
        "# b. cleaning data\n",
        "\n",
        "def convert_time(t):\n",
        "    t = int(t)\n",
        "    return dt.datetime.fromtimestamp(t)\n",
        "\n",
        "data = data.dropna(subset = ['Last Update'])\n",
        "data['Last Update'] = data['Last Update']/1000\n",
        "data['Last Update'] = data['Last Update'].apply(convert_time)\n",
        "data"
      ],
      "execution_count": null,
      "outputs": []
    },
    {
      "cell_type": "markdown",
      "metadata": {
        "id": "naWxHlX5IV56"
      },
      "source": [
        "## Etapa 4: Análise Exploratória de Dados e Visualização de Dados \n",
        "\n",
        "Este processo é bastante longo, pois é o corw e a alma da análise de dados. Dividimos em:\n",
        "1. Classificação de países e províncias (com base nos aspectos do COVID-19) \n",
        "2. Séries temporais em casos COVID-19 \n",
        "3. Classificação e distribuição de casos\n"
      ]
    },
    {
      "cell_type": "code",
      "metadata": {
        "id": "ZEQ4I713IiZu"
      },
      "source": [
        "# a. Top 10 confirmed countries (Bubble plot)\n",
        "\n",
        "top10_confirmed = pd.DataFrame(data.groupby('Country')['Confirmed'].sum().nlargest(10).sort_values(ascending = False))\n",
        "\n",
        "fig1 = px.scatter(top10_confirmed, x = top10_confirmed.index, y = 'Confirmed', size = 'Confirmed', size_max = 120,\n",
        "                color = top10_confirmed.index, title = 'Top 10 Confirmed Cases Countries')\n",
        "fig1.show()"
      ],
      "execution_count": null,
      "outputs": []
    },
    {
      "cell_type": "code",
      "metadata": {
        "id": "BfvUORRaJDUU"
      },
      "source": [
        "# b. Top 10 deaths countries (h-Bar plot)\n",
        "\n",
        "top10_deaths = pd.DataFrame(data.groupby('Country')['Deaths'].sum().nlargest(10).sort_values(ascending = True))\n",
        "\n",
        "fig2 = px.bar(top10_deaths, x = 'Deaths', y = top10_deaths.index, height = 600, color = 'Deaths', orientation = 'h',\n",
        "            color_continuous_scale = ['deepskyblue','red'], title = 'Top 10 Death Cases Countries')\n",
        "fig2.show()"
      ],
      "execution_count": null,
      "outputs": []
    },
    {
      "cell_type": "code",
      "metadata": {
        "id": "3H-hzZk_JJg_"
      },
      "source": [
        "# c. Top 10 recovered countries (Bar plot)\n",
        "\n",
        "top10_recovered = pd.DataFrame(data.groupby('Country')['Recovered'].sum().nlargest(10).sort_values(ascending = False))\n",
        "fig3 = px.bar(top10_recovered, x = top10_recovered.index, y = 'Recovered', height = 600, color = 'Recovered',\n",
        "             title = 'Top 10 Recovered Cases Countries', color_continuous_scale = px.colors.sequential.Viridis)\n",
        "fig3.show()"
      ],
      "execution_count": null,
      "outputs": []
    },
    {
      "cell_type": "code",
      "metadata": {
        "id": "PW2Rnb-AJQRv"
      },
      "source": [
        "# d. Top 10 active countries\n",
        "\n",
        "top10_active = pd.DataFrame(data.groupby('Country')['Active'].sum().nlargest(10).sort_values(ascending = True))\n",
        "fig4 = px.bar(top10_active, x = 'Active', y = top10_active.index, height = 600, color = 'Active', orientation = 'h',\n",
        "             color_continuous_scale = ['paleturquoise','blue'], title = 'Top 10 Active Cases Countries')\n",
        "fig4.show()"
      ],
      "execution_count": null,
      "outputs": []
    },
    {
      "cell_type": "code",
      "metadata": {
        "id": "xnkZHdYeJbiN"
      },
      "source": [
        "# Brazil\n",
        "topstates_brazil = data['Country'] == 'Brazil'\n",
        "topstates_brazil = data[topstates_brazil].nlargest(5, 'Confirmed')\n",
        "\n",
        "fig6 = go.Figure(data = [\n",
        "    go.Bar(name = 'Recuperados', x = topstates_brazil['State'], y = topstates_brazil['Recovered']),\n",
        "    go.Bar(name = 'Ativos', x = topstates_brazil['State'], y = topstates_brazil['Active']),\n",
        "    go.Bar(name = 'Mortos', x = topstates_brazil['State'], y = topstates_brazil['Deaths'])\n",
        "])\n",
        "fig6.update_layout(title = 'Most Affected States in Brazil', barmode = 'stack', height = 600)\n",
        "fig6.show()"
      ],
      "execution_count": null,
      "outputs": []
    },
    {
      "cell_type": "markdown",
      "metadata": {
        "id": "FNZvAv3mAJ95"
      },
      "source": [
        "# COVID-19 Progresso de Vacinação\n",
        "\n",
        "![](https://www.ubatuba.sp.gov.br/wp-content/uploads/sites/2/2021/04/Vacina%C3%A7%C3%A3o-67-770x416.jpeg)\n",
        "\n",
        "Informações de nosso dataset:\n",
        "*   Country - País da informção de vacina\n",
        "*   Country ISO Code - código ISO do país\n",
        "*   Date - data de entrada de dados. Para algumas das datas temos apenas as vacinações diárias, para outras, apenas o total (cumulativo)\n",
        "*   Total number of vaccin ations - número absoluto do total de pessoas vacinadas no país\n",
        "*   Total number of people vaccinated - uma pessoa, dependendo do esquema de imunização, receberá uma ou mais (normalmente 2) vacinas em um determinado momento, o número de vacinações pode ser maior que o número de pessoas.\n",
        "*   Total number of people fully vaccinated - este é o número de pessoas que receberam todo o conjunto de imunização de acordo com o esquema de imunização (normalmente 2) em um determinado momento, pode haver um certo número de pessoas que receberam uma vacina e outro número (menor) de pessoas que recebeu todas as vacinas do esquema\n",
        "*   Daily vaccinations (raw) - para uma determinada entrada de dados, o número de vacinação para essa data / país\n",
        "*   Daily vaccinations - para uma determinada entrada de dados, o número de vacinação para essa data / país\n",
        "*   Total vaccinations per hundred - proporção (em porcentagem) entre o número de vacinação e a população total até a data no país\n",
        "*   Total number of people vaccinated per hundred - proporção (em porcentagem) entre a população imunizada e a população total até a data no país\n",
        "*   Total number of people fully vaccinated per hundred - proporção (em porcentagem) entre a população totalmente imunizada e a população total até a data no país\n",
        "*   Number of vaccinations per day - número de vacinação diária para aquele dia e país\n",
        "*   Daily vaccinations per million - relação (em ppm) entre o número de vacinação e a população total para a data atual no país\n",
        "*   Vaccines used in the country - número total de vacinas usadas no país (atualizado)\n",
        "*   Source name - fonte da informação (autoridade nacional, organização internacional, organização local, etc.)\n",
        "*   Source website - site da fonte de informação\n",
        "\n",
        "\n",
        "\n",
        "\n"
      ]
    },
    {
      "cell_type": "markdown",
      "metadata": {
        "id": "DqD-IlCVDh0X"
      },
      "source": [
        "## Análise de Dados\n",
        "Inicializamos os pacotes Python que usaremos para ingestão, preparação e visualização de dados. Usaremos principalmente Plotly para visualização. Em seguida, lemos o arquivo de dados e agregamos os dados em alguns campos (country, iso_code e vaccines - ou seja, o esquema de vacinação usado em um determinado país).\n",
        "\n",
        "Vamos olhar principalmente para:\n",
        "*   Quais esquemas de vacinação são usados em vários países;\n",
        "*   Número total de vacinações e porcentagem de vacinações;\n",
        "*   Vacinações diárias e vacinações diárias por milhão;\n",
        "*   Total de pessoas vacinadas e porcentagem de pessoas vacinadas;\n",
        "*   No conjunto de dados também há informações sobre o número total de pessoas que estão completamente vacinadas (e a porcentagem delas).\n",
        "*   Visualizamos os valores mais recentes (máximos) e também a variação no tempo dos valores acima mencionados."
      ]
    },
    {
      "cell_type": "code",
      "metadata": {
        "id": "uej1IT_uAQ5Z"
      },
      "source": [
        "import numpy as np\n",
        "import pandas as pd \n",
        "import matplotlib.pyplot as plt\n",
        "import seaborn as sns \n",
        "import plotly.graph_objs as go\n",
        "import plotly.figure_factory as ff\n",
        "from plotly import tools\n",
        "from plotly.offline import download_plotlyjs, init_notebook_mode, plot, iplot\n",
        "import plotly.express as px\n",
        "init_notebook_mode(connected=True)\n",
        "import warnings\n",
        "warnings.filterwarnings(\"ignore\")"
      ],
      "execution_count": null,
      "outputs": []
    },
    {
      "cell_type": "code",
      "metadata": {
        "id": "u2Oe-G-REFqO"
      },
      "source": [
        "data_df = pd.read_csv(\"https://raw.githubusercontent.com/apenasweber/COVID-19-Vaccination-progress/master/country_vaccinations.csv\")"
      ],
      "execution_count": null,
      "outputs": []
    },
    {
      "cell_type": "code",
      "metadata": {
        "id": "BQ2894keEhRm"
      },
      "source": [
        "country_vaccine = data_df.groupby([\"country\", \"iso_code\", \"vaccines\"])['total_vaccinations', \n",
        "                                                                       'total_vaccinations_per_hundred',\n",
        "                                                                      'daily_vaccinations',\n",
        "                                                                      'daily_vaccinations_per_million',\n",
        "                                                                      'people_vaccinated',\n",
        "                                                                      'people_vaccinated_per_hundred',\n",
        "                                                                       'people_fully_vaccinated', 'people_fully_vaccinated_per_hundred'\n",
        "                                                                      ].max().reset_index()\n",
        "\n",
        "country_vaccine.columns = [\"Country\", \"iso_code\", \"Vaccines\", \"Total vaccinations\", \"Percent\", \"Daily vaccinations\", \n",
        "                           \"Daily vaccinations per million\", \"People vaccinated\", \"People vaccinated per hundred\",\n",
        "                           'People fully vaccinated', 'People fully vaccinated percent']"
      ],
      "execution_count": null,
      "outputs": []
    },
    {
      "cell_type": "markdown",
      "metadata": {
        "id": "20a8THvsFUXl"
      },
      "source": [
        "## Quais vacinas são usadas em cada país?"
      ]
    },
    {
      "cell_type": "code",
      "metadata": {
        "id": "CBICXMOsFcFN"
      },
      "source": [
        "vaccines = country_vaccine.Vaccines.unique()\n",
        "for v in vaccines:\n",
        "    countries = country_vaccine.loc[country_vaccine.Vaccines==v, 'Country'].values\n",
        "    print(f\"Vaccines: {v}: \\nCountries: {list(countries)}\\n\")"
      ],
      "execution_count": null,
      "outputs": []
    },
    {
      "cell_type": "markdown",
      "metadata": {
        "id": "43f1fCUNG6ec"
      },
      "source": [
        "## Países\n"
      ]
    },
    {
      "cell_type": "code",
      "metadata": {
        "id": "x_vFNzTiG7pL"
      },
      "source": [
        "data_df['iso_code'].value_counts()[:10]"
      ],
      "execution_count": null,
      "outputs": []
    },
    {
      "cell_type": "markdown",
      "metadata": {
        "id": "LIFq_XKEKuIl"
      },
      "source": [
        "# Variantes COVID-19\n",
        "Uma das características mais perigosas do COVID-19 e de qualquer vírus é a capacidade de sofrer mutações com frequência. O curto tempo de reprodução, o fator R relativamente grande, a presença generalizada em quase todas as partes do mundo facilitou a aparição de múltiplas mutações. Especialmente aqueles com maior taxa de transmissão, colocam sob pressão elevada a resposta médica à pandemia COVID-19, mesmo após o início dos programas de vacinação.\n"
      ]
    },
    {
      "cell_type": "code",
      "metadata": {
        "id": "mFxaDKzxK413"
      },
      "source": [
        "import numpy as np\n",
        "import pandas as pd \n",
        "import warnings\n",
        "warnings.filterwarnings(\"ignore\")\n",
        "data_df = pd.read_csv(\"https://raw.githubusercontent.com/apenasweber/covid-19-variations-dataset/main/covid-variants.csv\")"
      ],
      "execution_count": null,
      "outputs": []
    },
    {
      "cell_type": "code",
      "metadata": {
        "id": "Dr2Z4lp_LG5Y"
      },
      "source": [
        "print(f\"Columns: data_df.shape[1]: {list(data_df.columns)}\")\n",
        "print(f\"Rows: {data_df.shape[0]}\")\n",
        "print(data_df.info())"
      ],
      "execution_count": null,
      "outputs": []
    },
    {
      "cell_type": "code",
      "metadata": {
        "id": "k_c60nieLKWJ"
      },
      "source": [
        "data_df.head()"
      ],
      "execution_count": null,
      "outputs": []
    },
    {
      "cell_type": "code",
      "metadata": {
        "id": "kb-Km7LdLOQ7"
      },
      "source": [
        "print(f\"Países: {data_df.location.nunique()}\")\n",
        "print(f\"Data: {data_df.date.nunique()}\")\n",
        "print(f\"Variantes: {data_df.variant.nunique()}\")"
      ],
      "execution_count": null,
      "outputs": []
    },
    {
      "cell_type": "code",
      "metadata": {
        "id": "nBaoPkP2Wqq0"
      },
      "source": [
        "# DataViz"
      ],
      "execution_count": null,
      "outputs": []
    },
    {
      "cell_type": "markdown",
      "metadata": {
        "id": "bHU7MushBpJl"
      },
      "source": [
        "# Apresentação dos resultados\n",
        "\n",
        "\n",
        "---\n",
        "\n",
        "COVID-19 ameaçou o sistema de saúde e a integridade econômica de países em todo o mundo; países em desenvolvimento são significativamente afetados. Do lado positivo, as vacinas COVID-19 foram lançadas em muitos países. <br><br>Muitas populações marginalizadas e vulneráveis ​​em países de alta e baixa renda ainda estão esperando por sua primeira vacina. Se desmarcada, essa população corre o risco de ficar de fora do lançamento da vacina. Portanto, o objetivo foi analisar criticamente os dados de cobertura vacinal, identificar lacunas para informar a discussão e defesa de políticas, com foco em países de baixa e média renda. <br><br>No total, os resultados mostraram que a administração da vacina se concentra principalmente em países de alta renda. Algumas empresas de vacinas (por exemplo, Pfizer e BioNTech) estão fazendo um grande progresso na expansão de vacinas, embora geograficamente limitadas. <br><br>Países com maior PIB possuem investimento elevado em pesquisa científica, possibilitando o rápido acesso a criação e distribuição de vacinas.\n"
      ]
    }
  ]
}